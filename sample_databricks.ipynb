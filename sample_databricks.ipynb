{
 "cells": [
  {
   "cell_type": "markdown",
   "id": "a10d82fe",
   "metadata": {},
   "source": [
    "## Requisitos\n",
    "pip install databricks-sql-connector<br>\n",
    "pip install databricks-sql-connector openai<br>\n",
    "pip install databricks-sql-connector[pyarrow]<br>\n",
    "pip install pandas\n"
   ]
  },
  {
   "cell_type": "code",
   "execution_count": null,
   "id": "1c1fce95",
   "metadata": {},
   "outputs": [],
   "source": [
    "hostname_warehouse = \"dbc-17f1c94d-f9f3.cloud.databricks.com\"\n",
    "path_http = \"/sql/1.0/warehouses/629b6c5c9e7bd645\"\n",
    "DATABRICKS_API_KEY = \"sua databricks api key aqui\"\n",
    "OPENAI_API_KEY = \"sua openai api key aqui\"\n"
   ]
  },
  {
   "cell_type": "code",
   "execution_count": 41,
   "id": "11257439",
   "metadata": {},
   "outputs": [],
   "source": [
    "## Importar bibliotecas\n",
    "from databricks import sql\n",
    "from openai import OpenAI\n"
   ]
  },
  {
   "cell_type": "code",
   "execution_count": null,
   "id": "29eeccd2",
   "metadata": {},
   "outputs": [
    {
     "name": "stdout",
     "output_type": "stream",
     "text": [
      "   transactionID                 product  quantity  unitPrice\n",
      "0        2003017  Austin Almond Biscotti        40          3\n"
     ]
    }
   ],
   "source": [
    "# Exemplo de consulta com query ao Databricks\n",
    "# e conversão para DataFrame Pandas\n",
    "server_hostname = hostname_warehouse\n",
    "http_path = path_http\n",
    "access_token = DATABRICKS_API_KEY\n",
    "\n",
    "try:\n",
    "    with sql.connect(server_hostname=server_hostname,\n",
    "                     http_path=http_path,\n",
    "                     access_token=access_token,\n",
    "                     use_cloud_fetch=True) as connection:\n",
    "\n",
    "        with connection.cursor() as cursor:\n",
    "            query = '''\n",
    "                    SELECT transactionID, product, quantity, unitPrice\n",
    "                    FROM samples.bakehouse.sales_transactions\n",
    "                    WHERE transactionID = 2003017\n",
    "                    '''\n",
    "            cursor.execute(query)\n",
    "            arrow_table = cursor.fetchall_arrow()\n",
    "            df = arrow_table.to_pandas()\n",
    "    print(df)\n",
    "except Exception as e:\n",
    "    print(f\"Ocorreu um erro: {e}\")\n"
   ]
  },
  {
   "cell_type": "code",
   "execution_count": null,
   "id": "f79cc792",
   "metadata": {},
   "outputs": [
    {
     "name": "stdout",
     "output_type": "stream",
     "text": [
      "SQL gerado: SELECT transactionId, product, quantity, unitPrice FROM samples.bakehouse.sales_transactions WHERE transactionId = 2003017;\n",
      "\n",
      "   transactionId                 product  quantity  unitPrice\n",
      "0        2003017  Austin Almond Biscotti        40          3\n"
     ]
    }
   ],
   "source": [
    "# Exemplo de consulta em linguagem natural ao Databricks\n",
    "# com conversão para DataFrame Pandas\n",
    "\n",
    "# Configuração do Databricks\n",
    "server_hostname = hostname_warehouse\n",
    "http_path = path_http\n",
    "databricks_token = DATABRICKS_API_KEY\n",
    "\n",
    "# Configuração do OpenAI\n",
    "openai_api_key = OPENAI_API_KEY\n",
    "client = OpenAI(api_key=openai_api_key)\n",
    "\n",
    "# Esquema da tabela para o LLM\n",
    "table_schema = \"\"\"\n",
    "A tabela samples.bakehouse.sales_transactions contém dados de transações.\n",
    "As colunas incluem:\n",
    "- transactionId (integer)\n",
    "- product (string)\n",
    "- quantity (decimal)\n",
    "- unitPrice (decimal)\n",
    "\"\"\"\n",
    "\n",
    "def generate_sql_from_natural_language(question: str) -> str:\n",
    "    prompt = f\"\"\"\n",
    "            Dado o seguinte esquema de tabela:\n",
    "            {table_schema}\n",
    "            Converta a seguinte pergunta para uma consulta SQL válida para \n",
    "            a tabela `samples`.`bakehouse`.`sales_transactions`:\n",
    "            Pergunta: {question}\n",
    "            Retorne apenas a query da consulta SQL sem explicações,\n",
    "            no seguinte formato:\n",
    "            SELECT col1, col2 FROM table WHERE condition,\n",
    "            ou apenas a query se não houver condição.;\n",
    "            \"\"\"\n",
    "    response = client.completions.create(\n",
    "        model=\"gpt-4o-mini\",\n",
    "        prompt=prompt,\n",
    "        max_tokens=100\n",
    "    )\n",
    "    generated_sql = response.choices[0].text.strip()\n",
    "    return generated_sql\n",
    "\n",
    "def execute_natural_language_query(question: str):\n",
    "    sql_query = generate_sql_from_natural_language(question)\n",
    "    try:\n",
    "        with sql.connect(server_hostname=server_hostname,\n",
    "                         http_path=http_path,\n",
    "                         access_token=databricks_token,\n",
    "                         use_cloud_fetch=True) as connection:\n",
    "\n",
    "            with connection.cursor() as cursor:\n",
    "                cursor.execute(sql_query)\n",
    "                arrow_table = cursor.fetchall_arrow()\n",
    "                df = arrow_table.to_pandas()\n",
    "        print(df)\n",
    "    except Exception as e:\n",
    "        print(f\"Ocorreu um erro: {e}\")\n",
    "\n",
    "# Exemplo de uso\n",
    "pergunta = \"quero a linha que tenha o id da transação 2003017, \" \\\n",
    "\"e retorne apenas as colunas transactionID, product, quantity, unitPrice\"\n",
    "execute_natural_language_query(pergunta)"
   ]
  }
 ],
 "metadata": {
  "kernelspec": {
   "display_name": "Python 3",
   "language": "python",
   "name": "python3"
  },
  "language_info": {
   "codemirror_mode": {
    "name": "ipython",
    "version": 3
   },
   "file_extension": ".py",
   "mimetype": "text/x-python",
   "name": "python",
   "nbconvert_exporter": "python",
   "pygments_lexer": "ipython3",
   "version": "3.13.7"
  }
 },
 "nbformat": 4,
 "nbformat_minor": 5
}
